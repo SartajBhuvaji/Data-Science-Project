{
  "nbformat": 4,
  "nbformat_minor": 0,
  "metadata": {
    "colab": {
      "provenance": [],
      "collapsed_sections": []
    },
    "kernelspec": {
      "name": "python3",
      "display_name": "Python 3"
    },
    "language_info": {
      "name": "python"
    }
  },
  "cells": [
    {
      "cell_type": "code",
      "execution_count": null,
      "metadata": {
        "colab": {
          "base_uri": "https://localhost:8080/"
        },
        "id": "QNNlhonF91T1",
        "outputId": "946ea7ec-1e1f-4bf8-cae3-4eb3b7728262"
      },
      "outputs": [
        {
          "output_type": "stream",
          "name": "stdout",
          "text": [
            "Mounted at /content/gdrive\n"
          ]
        }
      ],
      "source": [
        "from google.colab import drive\n",
        "drive.mount('/content/gdrive')"
      ]
    },
    {
      "cell_type": "code",
      "source": [
        " drive.mount(\"/content/gdrive\", force_remount=True)"
      ],
      "metadata": {
        "colab": {
          "base_uri": "https://localhost:8080/"
        },
        "id": "7ZsO8maPETOy",
        "outputId": "032572d8-25e7-4ca0-f4cb-c23b96ff81fc"
      },
      "execution_count": null,
      "outputs": [
        {
          "output_type": "stream",
          "name": "stdout",
          "text": [
            "Mounted at /content/gdrive\n"
          ]
        }
      ]
    },
    {
      "cell_type": "code",
      "source": [
        "%cd '/content/gdrive/MyDrive/Master/Fall 22/DS Project/CornDataSet'\n",
        "!ls"
      ],
      "metadata": {
        "colab": {
          "base_uri": "https://localhost:8080/"
        },
        "id": "salDvNmU_pxJ",
        "outputId": "34e802e1-f5ea-4b1b-8721-326288dbb810"
      },
      "execution_count": null,
      "outputs": [
        {
          "output_type": "stream",
          "name": "stdout",
          "text": [
            "/content/gdrive/MyDrive/Master/Fall 22/DS Project/CornDataSet\n",
            "common_rust  gray_leaf_spot  healthy  northern_leaf_blight\n"
          ]
        }
      ]
    },
    {
      "cell_type": "code",
      "source": [
        "import shutil\n",
        "import os\n",
        "import numpy as np\n",
        "import argparse"
      ],
      "metadata": {
        "id": "O9LRHY_5T1W8"
      },
      "execution_count": null,
      "outputs": []
    },
    {
      "cell_type": "code",
      "source": [
        "def get_files_from_folder(path):\n",
        "\n",
        "    files = os.listdir(path)\n",
        "    return np.asarray(files)\n",
        "\n",
        "def split_data(path_to_data, path_to_test_data, train_ratio):\n",
        "    _, dirs, _ = next(os.walk(path_to_data))\n",
        "\n",
        "    data_counter_per_class = np.zeros((len(dirs)))\n",
        "    for i in range(len(dirs)):\n",
        "        path = os.path.join(path_to_data, dirs[i])\n",
        "        files = get_files_from_folder(path)\n",
        "        data_counter_per_class[i] = len(files)\n",
        "    test_counter = np.round(data_counter_per_class * (1 - train_ratio))\n",
        "\n",
        "    for i in range(len(dirs)):\n",
        "        path_to_original = os.path.join(path_to_data, dirs[i])\n",
        "        path_to_save = os.path.join(path_to_test_data, dirs[i])\n",
        "\n",
        "        if not os.path.exists(path_to_save):\n",
        "            os.makedirs(path_to_save)\n",
        "        files = get_files_from_folder(path_to_original)\n",
        "\n",
        "        for j in range(int(test_counter[i])): # copy file loop \n",
        "            dst = os.path.join(path_to_save, files[j])\n",
        "            src = os.path.join(path_to_original, files[j])\n",
        "            shutil.move(src, dst)\n",
        "\n",
        "\n",
        "#imbanaced data set. Need to balance.\n",
        "source = '/content/gdrive/MyDrive/Master/Fall 22/DS Project/TestDS'\n",
        "dest = '/content/gdrive/MyDrive/Master/Fall 22/DS Project/Test DS Test data/'\n",
        "train_ratio = 0.8 \n",
        "split_data(source, dest, train_ratio)"
      ],
      "metadata": {
        "colab": {
          "base_uri": "https://localhost:8080/"
        },
        "id": "aAcMRcbM_h9E",
        "outputId": "1ea34205-e6e4-477d-8da1-0932e30e8a80"
      },
      "execution_count": null,
      "outputs": [
        {
          "output_type": "stream",
          "name": "stdout",
          "text": [
            "main called\n"
          ]
        }
      ]
    },
    {
      "cell_type": "code",
      "source": [
        "import os\n",
        "# display test train counts below"
      ],
      "metadata": {
        "id": "DPY1PjB8QvjH"
      },
      "execution_count": null,
      "outputs": []
    },
    {
      "cell_type": "code",
      "source": [
        "count = 0\n",
        "test_folder = r'/content/gdrive/MyDrive/Master/Fall 22/DS Project/Testing/common_rust'\n",
        "training_folder = r\"/content/gdrive/MyDrive/Master/Fall 22/DS Project/Training/common_rust\"\n",
        "\n",
        "dir_path = training_folder\n",
        "for path in os.scandir(dir_path):\n",
        "    if path.is_file():\n",
        "        count += 1\n",
        "print('Training count:', count)\n",
        "\n",
        "count = 0\n",
        "dir_path = test_folder\n",
        "for path in os.scandir(dir_path):\n",
        "    if path.is_file():\n",
        "        count += 1\n",
        "print('Testing count:', count)"
      ],
      "metadata": {
        "colab": {
          "base_uri": "https://localhost:8080/"
        },
        "id": "87K0vzzgE6qT",
        "outputId": "2a4782ac-5b88-42f3-f531-17bef8e83e72"
      },
      "execution_count": null,
      "outputs": [
        {
          "output_type": "stream",
          "name": "stdout",
          "text": [
            "Training count: 828\n",
            "Testing count: 207\n"
          ]
        }
      ]
    },
    {
      "cell_type": "code",
      "source": [
        "count = 0\n",
        "test_folder = r'/content/gdrive/MyDrive/Master/Fall 22/DS Project/Testing/gray_leaf_spot'\n",
        "training_folder = r\"/content/gdrive/MyDrive/Master/Fall 22/DS Project/Training/gray_leaf_spot\"\n",
        "\n",
        "dir_path = training_folder\n",
        "for path in os.scandir(dir_path):\n",
        "    if path.is_file():\n",
        "        count += 1\n",
        "print('Training count:', count)\n",
        "\n",
        "count = 0\n",
        "dir_path = test_folder\n",
        "for path in os.scandir(dir_path):\n",
        "    if path.is_file():\n",
        "        count += 1\n",
        "print('Testing count:', count)"
      ],
      "metadata": {
        "id": "Fc_i5evjLsQP",
        "colab": {
          "base_uri": "https://localhost:8080/"
        },
        "outputId": "e370c05f-003f-42f5-a0b5-4b815b67a215"
      },
      "execution_count": null,
      "outputs": [
        {
          "output_type": "stream",
          "name": "stdout",
          "text": [
            "Training count: 328\n",
            "Testing count: 82\n"
          ]
        }
      ]
    },
    {
      "cell_type": "code",
      "source": [
        "count = 0\n",
        "test_folder = r'/content/gdrive/MyDrive/Master/Fall 22/DS Project/Testing/healthy'\n",
        "training_folder = r\"/content/gdrive/MyDrive/Master/Fall 22/DS Project/Training/healthy\"\n",
        "\n",
        "dir_path = training_folder\n",
        "for path in os.scandir(dir_path):\n",
        "    if path.is_file():\n",
        "        count += 1\n",
        "print('Training count:', count)\n",
        "\n",
        "count = 0\n",
        "dir_path = test_folder\n",
        "for path in os.scandir(dir_path):\n",
        "    if path.is_file():\n",
        "        count += 1\n",
        "print('Testing count:', count)"
      ],
      "metadata": {
        "colab": {
          "base_uri": "https://localhost:8080/"
        },
        "id": "Hwa8ujacRdTK",
        "outputId": "92a45210-572f-434b-b422-6a6b9a2fe265"
      },
      "execution_count": null,
      "outputs": [
        {
          "output_type": "stream",
          "name": "stdout",
          "text": [
            "Training count: 744\n",
            "Testing count: 186\n"
          ]
        }
      ]
    },
    {
      "cell_type": "code",
      "source": [
        "count = 0\n",
        "test_folder = r'/content/gdrive/MyDrive/Master/Fall 22/DS Project/Testing/northern_leaf_blight'\n",
        "training_folder = r\"/content/gdrive/MyDrive/Master/Fall 22/DS Project/Training/northern_leaf_blight\"\n",
        "\n",
        "dir_path = training_folder\n",
        "for path in os.scandir(dir_path):\n",
        "    if path.is_file():\n",
        "        count += 1\n",
        "print('Training count:', count)\n",
        "\n",
        "count = 0\n",
        "dir_path = test_folder\n",
        "for path in os.scandir(dir_path):\n",
        "    if path.is_file():\n",
        "        count += 1\n",
        "print('Testing count:', count)"
      ],
      "metadata": {
        "colab": {
          "base_uri": "https://localhost:8080/"
        },
        "id": "--RQtlTYS7v9",
        "outputId": "00553135-efbf-4d73-8440-1ceb66dde89f"
      },
      "execution_count": null,
      "outputs": [
        {
          "output_type": "stream",
          "name": "stdout",
          "text": [
            "Training count: 788\n",
            "Testing count: 197\n"
          ]
        }
      ]
    }
  ]
}